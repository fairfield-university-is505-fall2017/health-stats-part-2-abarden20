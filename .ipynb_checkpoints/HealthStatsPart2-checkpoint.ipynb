{
 "cells": [
  {
   "cell_type": "markdown",
   "metadata": {},
   "source": [
    "# Health Stats Part 1: Waist 2 Hip Ratios"
   ]
  },
  {
   "cell_type": "markdown",
   "metadata": {},
   "source": [
    "<!--- Write an explanation of the Waist To Hips Ratio statistic used by health professionals. Please include an explanation of what it is used for, exactly how it is calculated, and how to interpret the results. Note: Formmatting matters. Make this as professional as you can using Markdown.  --->\n",
    "####Summary:\n",
    "Waist–hip ratio or waist-to-hip ratio (WHR) is the dimensionless ratio of the circumference of the waist to that of the hips.\n",
    "####How it is Calculated:\n",
    "This is calculated as waist measurement divided by hip measurement (W ÷ H). \n",
    "####Interpreting the Results:\n",
    "The WHR has been used as an indicator or measure of health, and the risk of developing serious health conditions. \n",
    "\n",
    "######Resource\n",
    "*As written in wikipedia.org: https://en.wikipedia.org/wiki/Waist%E2%80%93hip_ratio*"
   ]
  },
  {
   "cell_type": "markdown",
   "metadata": {},
   "source": [
    "## Source Data "
   ]
  },
  {
   "cell_type": "markdown",
   "metadata": {},
   "source": [
    "<!--- Replace the text below with a Markdown bullet list that defines the columns of the CSV file. Be sure to indicate the data type for each column. --->\n",
    " * **ID** (type: int)\n",
    " * **Waist** (type: int)\n",
    " * **Hip** (type: int)\n",
    " * **Gender** (type: str)\n",
    " * **W2H Ratio** (type: float)\n",
    " * **Shape** (type: str)\n"
   ]
  },
  {
   "cell_type": "markdown",
   "metadata": {},
   "source": [
    "## Data Import"
   ]
  },
  {
   "cell_type": "code",
   "execution_count": 2,
   "metadata": {
    "collapsed": true
   },
   "outputs": [],
   "source": [
    "# Goal: Extract the data from the file\n",
    "\n",
    "# opens the w2h_data.csv for reading\n",
    "f = open(\"w2h_data.csv\", \"r\")\n",
    "\n",
    "# loads the file into a list of strings, one string per line\n",
    "raw_lines = list(f)\n",
    "\n",
    "# closes the file\n",
    "f.close()"
   ]
  },
  {
   "cell_type": "code",
   "execution_count": 3,
   "metadata": {
    "collapsed": true
   },
   "outputs": [],
   "source": [
    "# Goal: Scrub and convert the data, loading it into a new list called rows\n",
    "\n",
    "# Strips out newline '\\n' characters and converts to a list\n",
    "raw_rows = [r.rstrip('\\n').split(',') for r in raw_lines] # <--- Whoa. Why does this work? \n",
    "\n",
    "# Creates a new list, starting with just the column names\n",
    "rows = list() \n",
    "rows.append(raw_rows[0]);\n",
    "\n",
    "# Convert each row_row, starting with the second\n",
    "for raw_row in raw_rows[1:]:\n",
    "    \n",
    "    # Note: the values in the raw_row list are all strings.\n",
    "    # Create a new list called row that converts each item in raw_row to the right data type  \n",
    "    row = [int(raw_row[0]),int(raw_row[1]),int(raw_row[2]),raw_row[3]] # FIX THIS; you'll need to use conversion functions\n",
    "    # Append the new row to the rows list\n",
    "    rows.append(row)\n",
    "    \n",
    "# from here on out use the rows list instead of raw_rows or raw_lines\n",
    "\n",
    "# create a dictionary called w2h_dict for each record. \n",
    "columns = ['ID', 'Waist', 'Hip', 'Gender']\n",
    "w2h_dict = {'ID':row[0],'Waist':row[1],'Hip':row[2],'Gender':row[3]}\n",
    "#print(w2h_dict)\n",
    "#Create a list of dictionaries called w2h_dict_list\n",
    "w2h_dict_list = [dict(zip(w2h_dict, row[0:4])) for row in rows[1:]]\n",
    "#print(w2h_dict_list)\n"
   ]
  },
  {
   "cell_type": "markdown",
   "metadata": {},
   "source": [
    "## Calculations"
   ]
  },
  {
   "cell_type": "code",
   "execution_count": 4,
   "metadata": {
    "collapsed": true
   },
   "outputs": [],
   "source": [
    "# Goal: For each row of data calculate and store the w2h_ratio and shape.\n",
    "\n",
    "# Add columns for the the new variable W2H Ratio    \n",
    "for w2h_dict in w2h_dict_list:\n",
    "    w2h_ratio = w2h_dict['Waist']/w2h_dict['Hip']\n",
    "    w2h_dict['W2H Ratio'] = w2h_ratio\n",
    "    #print(w2h_dict)\n",
    "\n",
    "# Add columns for the the new variable Shape\n",
    "for w2h_dict in w2h_dict_list:    \n",
    "    if ((w2h_dict['Gender']=='M' and w2h_dict['W2H Ratio'] > 0.9) or (w2h_dict['Gender']=='F' and w2h_dict['W2H Ratio'] > 0.8)) :\n",
    "        w2h_dict['Shape'] = \"Apple\"\n",
    "    else:\n",
    "        w2h_dict['Shape'] = \"Pear\"\n",
    "    #print(w2h_dict)\n",
    "        \n",
    "#print(w2h_dict_list)\n"
   ]
  },
  {
   "cell_type": "markdown",
   "metadata": {},
   "source": [
    "## Output"
   ]
  },
  {
   "cell_type": "code",
   "execution_count": 6,
   "metadata": {
    "collapsed": true
   },
   "outputs": [],
   "source": [
    "# Import pandas package and use function DataFrame to build table \n",
    "\n",
    "from pandas import *\n",
    "\n",
    "df = DataFrame(w2h_dict_list)\n",
    "#print(df)\n",
    "\n",
    "#output the data table to HTML file\n",
    "df.to_html('StatsResults.html')\n",
    "    \n",
    "   "
   ]
  }
 ],
 "metadata": {
  "kernelspec": {
   "display_name": "Python 3",
   "language": "python",
   "name": "python3"
  },
  "language_info": {
   "codemirror_mode": {
    "name": "ipython",
    "version": 3
   },
   "file_extension": ".py",
   "mimetype": "text/x-python",
   "name": "python",
   "nbconvert_exporter": "python",
   "pygments_lexer": "ipython3",
   "version": "3.6.1"
  }
 },
 "nbformat": 4,
 "nbformat_minor": 2
}
